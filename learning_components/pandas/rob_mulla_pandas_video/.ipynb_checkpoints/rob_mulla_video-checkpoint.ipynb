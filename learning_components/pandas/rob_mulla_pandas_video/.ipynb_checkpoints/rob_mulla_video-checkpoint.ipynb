{
 "cells": [
  {
   "cell_type": "code",
   "execution_count": 1,
   "id": "c7b7c255-7e2f-46ae-b6d0-dcf7f5c015b6",
   "metadata": {},
   "outputs": [],
   "source": [
    "import pandas as pd"
   ]
  },
  {
   "cell_type": "markdown",
   "id": "092b652a-80a4-4730-b70d-a23e3378e908",
   "metadata": {},
   "source": [
    "## I/O (Reading & Writing)"
   ]
  },
  {
   "cell_type": "code",
   "execution_count": null,
   "id": "85928f7e-15b4-4c29-8a13-4ba3a25ed0f5",
   "metadata": {},
   "outputs": [],
   "source": [
    "pd.read_csv("
   ]
  }
 ],
 "metadata": {
  "kernelspec": {
   "display_name": "Python 3 (ipykernel)",
   "language": "python",
   "name": "python3"
  },
  "language_info": {
   "codemirror_mode": {
    "name": "ipython",
    "version": 3
   },
   "file_extension": ".py",
   "mimetype": "text/x-python",
   "name": "python",
   "nbconvert_exporter": "python",
   "pygments_lexer": "ipython3",
   "version": "3.12.3"
  }
 },
 "nbformat": 4,
 "nbformat_minor": 5
}
